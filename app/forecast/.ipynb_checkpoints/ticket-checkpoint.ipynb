{
 "cells": [
  {
   "cell_type": "code",
   "execution_count": 22,
   "metadata": {},
   "outputs": [
    {
     "data": {
      "text/plain": [
       "[{'date': '2018-03-01', 'rank': [4]},\n",
       " {'date': '2018-03-02', 'rank': [5]},\n",
       " {'date': '2018-03-03', 'rank': [5]},\n",
       " {'date': '2018-03-04', 'rank': [2]},\n",
       " {'date': '2018-03-05', 'rank': [3]},\n",
       " {'date': '2018-03-06', 'rank': [3]},\n",
       " {'date': '2018-03-07', 'rank': [3]},\n",
       " {'date': '2018-03-08', 'rank': [4, 8]},\n",
       " {'date': '2018-03-09', 'rank': [5]},\n",
       " {'date': '2018-03-10', 'rank': [5]},\n",
       " {'date': '2018-03-11', 'rank': [2]},\n",
       " {'date': '2018-03-12', 'rank': [3]},\n",
       " {'date': '2018-03-13', 'rank': [3]},\n",
       " {'date': '2018-03-14', 'rank': [3]},\n",
       " {'date': '2018-03-15', 'rank': [4]},\n",
       " {'date': '2018-03-16', 'rank': [5, 5]},\n",
       " {'date': '2018-03-17', 'rank': [5, 5]},\n",
       " {'date': '2018-03-18', 'rank': [2, 5]},\n",
       " {'date': '2018-03-19', 'rank': [3, 5]},\n",
       " {'date': '2018-03-20', 'rank': [3, 5]},\n",
       " {'date': '2018-03-21', 'rank': [3, 5]},\n",
       " {'date': '2018-03-22', 'rank': [4, 5]},\n",
       " {'date': '2018-03-23', 'rank': [5, 5]},\n",
       " {'date': '2018-03-24', 'rank': [5, 5]},\n",
       " {'date': '2018-03-25', 'rank': [2, 5]},\n",
       " {'date': '2018-03-26', 'rank': [3, 5]},\n",
       " {'date': '2018-03-27', 'rank': [3, 5]},\n",
       " {'date': '2018-03-28', 'rank': [3, 5]},\n",
       " {'date': '2018-03-29', 'rank': [4, 5]},\n",
       " {'date': '2018-03-30', 'rank': [5, 5]},\n",
       " {'date': '2018-03-31', 'rank': [5, 5]},\n",
       " {'date': '2018-04-01', 'rank': [2, 5]},\n",
       " {'date': '2018-04-02', 'rank': [3, 5]},\n",
       " {'date': '2018-04-03', 'rank': [3, 5]},\n",
       " {'date': '2018-04-04', 'rank': [3, 5]},\n",
       " {'date': '2018-04-05', 'rank': [4, 10, 5]},\n",
       " {'date': '2018-04-06', 'rank': [5, 10, 5]},\n",
       " {'date': '2018-04-07', 'rank': [5, 10, 5]},\n",
       " {'date': '2018-04-08', 'rank': [2, 5]},\n",
       " {'date': '2018-04-09', 'rank': [3, 5]}]"
      ]
     },
     "execution_count": 22,
     "metadata": {},
     "output_type": "execute_result"
    }
   ],
   "source": [
    "from sklearn.model_selection import cross_val_predict\n",
    "from sklearn.preprocessing import PolynomialFeatures\n",
    "from sklearn import linear_model\n",
    "from pymongo import MongoClient\n",
    "from sklearn.pipeline import make_pipeline\n",
    "from sklearn.linear_model import Ridge\n",
    "import numpy as np\n",
    "\n",
    "import matplotlib.pyplot as plt\n",
    "import datetime\n",
    "import urllib.request\n",
    "import json\n",
    "\n",
    "resp = urllib.request.urlopen('http://localhost:7100/tickets/shanghai?st=2018-03-01&et=2018-04-09')\n",
    "ticketData = resp.read()\n",
    "ticketData = json.loads(ticketData)\n",
    "\n",
    "resp = urllib.request.urlopen('http://localhost:7100/day/rank?st=2018-03-01&et=2018-04-09')\n",
    "dayData = resp.read()\n",
    "dayData = json.loads(dayData)\n",
    "\n",
    "resp = urllib.request.urlopen('http://localhost:7100/weather/history?st=2018-03-01&et=2018-04-09')\n",
    "weaData = resp.read()\n",
    "weaData = json.loads(weaData)\n",
    "\n",
    "dayData"
   ]
  },
  {
   "cell_type": "code",
   "execution_count": 28,
   "metadata": {},
   "outputs": [],
   "source": [
    "\n",
    "\n",
    "\n",
    "ticketList = []\n",
    "ticketDayData = []\n",
    "\n",
    "for item in ticketData:\n",
    "    dayList = np.array(item['dayList'])\n",
    "    dayList = dayList[-4:]\n",
    "    \n",
    "    ticketList.append(item['ticketNum'])\n",
    "    ticketDayData.append(dayList)\n",
    "\n",
    "ticketDayData = np.array(ticketDayData)\n",
    "\n",
    "\n",
    "weaRank = []\n",
    "\n",
    "for item in weaData:\n",
    "    rank = sum(item['rank'])\n",
    "    weaRank.append(rank)\n",
    "    \n",
    "dayRank = []\n",
    "for item in dayData:\n",
    "    rank = item['rank']\n",
    "    rank = np.array(rank)\n",
    "    rank = sum(rank)\n",
    "    dayRank.append(rank)\n",
    "    \n",
    "    \n",
    "weaRank = np.array(weaRank)\n",
    "dayRank = np.array(dayRank)\n",
    "\n",
    "dateRank = weaRank + dayRank\n"
   ]
  },
  {
   "cell_type": "code",
   "execution_count": 32,
   "metadata": {},
   "outputs": [
    {
     "name": "stdout",
     "output_type": "stream",
     "text": [
      "[-3. -3. -2. -2. -1. -1.  0.  0.]\n",
      "[2559.]\n"
     ]
    },
    {
     "data": {
      "image/png": "[encoded data removed]",
      "text/plain": [
       "<matplotlib.figure.Figure at 0x1e541b90b38>"
      ]
     },
     "metadata": {},
     "output_type": "display_data"
    }
   ],
   "source": [
    "filterData = np.where( (dateRank > 30) & (dateRank < 40))\n",
    "# filterData = np.where( (dateRank > 26) & (dateRank < 30))\n",
    "# filterData = np.where( (dateRank > 10) & (dateRank < 20))\n",
    "\n",
    "x = np.array([])\n",
    "y = np.array([])\n",
    "for index in filterData:\n",
    "    dayList = ticketDayData[index]\n",
    "    dayList = dayList.T\n",
    "    \n",
    "    x = np.append(x, dayList[0, :])\n",
    "    y = np.append(y, dayList[1, :])\n",
    "\n",
    "xx = x.reshape((len(x), -1))\n",
    "\n",
    "regr = linear_model.LinearRegression()\n",
    "regr.fit(xx, y)\n",
    "\n",
    "print(x)\n",
    "\n",
    "plt.scatter(x, y)\n",
    "plt.plot(xx, regr.predict(xx), color='red',linewidth=1)\n",
    "print(regr.coef_)\n"
   ]
  },
  {
   "cell_type": "code",
   "execution_count": null,
   "metadata": {},
   "outputs": [],
   "source": []
  }
 ],
 "metadata": {
  "kernelspec": {
   "display_name": "Python 3",
   "language": "python",
   "name": "python3"
  },
  "language_info": {
   "codemirror_mode": {
    "name": "ipython",
    "version": 3
   },
   "file_extension": ".py",
   "mimetype": "text/x-python",
   "name": "python",
   "nbconvert_exporter": "python",
   "pygments_lexer": "ipython3",
   "version": "3.6.4"
  }
 },
 "nbformat": 4,
 "nbformat_minor": 2
}
