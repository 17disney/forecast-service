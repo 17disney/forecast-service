{
 "cells": [
  {
   "cell_type": "code",
   "execution_count": 416,
   "metadata": {},
   "outputs": [],
   "source": [
    "from sklearn.model_selection import cross_val_predict\n",
    "from sklearn.preprocessing import PolynomialFeatures\n",
    "from sklearn import linear_model\n",
    "from pymongo import MongoClient\n",
    "from sklearn.pipeline import make_pipeline\n",
    "from sklearn.linear_model import Ridge\n",
    "import numpy as np\n",
    "\n",
    "import matplotlib.pyplot as plt\n",
    "import datetime\n",
    "import urllib.request\n",
    "import json\n",
    "\n",
    "resp = urllib.request.urlopen('http://localhost:7100/tickets/shanghai?st=2018-03-01&et=2018-04-09')\n",
    "ticketData = resp.read()\n",
    "ticketData = json.loads(ticketData)\n",
    "\n",
    "resp = urllib.request.urlopen('http://localhost:7100/day/rank?st=2018-03-01&et=2018-04-09')\n",
    "dayData = resp.read()\n",
    "dayData = json.loads(dayData)\n",
    "\n",
    "resp = urllib.request.urlopen('http://localhost:7100/weather/history?st=2018-03-01&et=2018-04-09')\n",
    "weaData = resp.read()\n",
    "weaData = json.loads(weaData)\n"
   ]
  },
  {
   "cell_type": "code",
   "execution_count": 480,
   "metadata": {},
   "outputs": [
    {
     "data": {
      "text/plain": [
       "10.5"
      ]
     },
     "execution_count": 480,
     "metadata": {},
     "output_type": "execute_result"
    }
   ],
   "source": [
    "\n",
    "\n",
    "\n",
    "ticketList = []\n",
    "ticketDayData = []\n",
    "\n",
    "for item in ticketData:\n",
    "    dayList = np.array(item['dayList'])\n",
    "    dayList = dayList[-4:]\n",
    "    \n",
    "    ticketList.append(item['ticketNum'])\n",
    "    ticketDayData.append(dayList)\n",
    "\n",
    "ticketDayData = np.array(ticketDayData)\n",
    "\n",
    "\n",
    "weaRank = []\n",
    "\n",
    "for item in weaData:\n",
    "    rank = sum(item['rank'])\n",
    "    weaDatas[item['date']] = rank\n",
    "    weaRank.append(rank)\n",
    "    \n",
    "dayRank = []\n",
    "for date in dayData:\n",
    "    rank = dayData[date]\n",
    "    rank = np.array(rank)\n",
    "    rank = sum(rank)\n",
    "    dayRank.append(rank)\n",
    "    \n",
    "    \n",
    "weaRank = np.array(weaRank)\n",
    "dayRank = np.array(dayRank)\n",
    "\n",
    "dateRank = weaRank + dayRank\n",
    "\n",
    "dateRank.min()"
   ]
  },
  {
   "cell_type": "code",
   "execution_count": 542,
   "metadata": {},
   "outputs": [
    {
     "data": {
      "text/plain": [
       "[<matplotlib.lines.Line2D at 0x18ef7f5e908>]"
      ]
     },
     "execution_count": 542,
     "metadata": {},
     "output_type": "execute_result"
    },
    {
     "data": {
      "image/png": "[encoded data removed]",
      "text/plain": [
       "<matplotlib.figure.Figure at 0x18ef91b77f0>"
      ]
     },
     "metadata": {},
     "output_type": "display_data"
    }
   ],
   "source": [
    "filterData = np.where( (dateRank > 20) & (dateRank < 30))\n",
    "\n",
    "# filterData = np.where(dateRank > 30, 1, 0)\n",
    "\n",
    "# for index in filterData:\n",
    " \n",
    "#     dayList = ticketDayData[index]\n",
    "#     dayList = dayList.T\n",
    "\n",
    "#     plt.scatter(dayList[0, :],dayList[1, :])\n",
    "fig, ax = plt.subplots()\n",
    "\n",
    "\n",
    "dayList = ticketDayData[0]\n",
    "dayList = dayList.T\n",
    "\n",
    "x = dayList[0, :]\n",
    "y = dayList[1, :]\n",
    "\n",
    "\n",
    "xx = x.reshape((len(x), -1))\n",
    "yy = y.reshape((len(y), -1))\n",
    "regr = linear_model.LinearRegression()\n",
    "\n",
    "\n",
    "\n",
    "regr = linear_model.LinearRegression()\n",
    "regr.fit(xx, y)\n",
    "\n",
    "plt.scatter(x, y)\n",
    "plt.plot(xx, regr.predict(xx), color='red',linewidth=1)"
   ]
  },
  {
   "cell_type": "code",
   "execution_count": null,
   "metadata": {},
   "outputs": [],
   "source": []
  }
 ],
 "metadata": {
  "kernelspec": {
   "display_name": "Python 3",
   "language": "python",
   "name": "python3"
  },
  "language_info": {
   "codemirror_mode": {
    "name": "ipython",
    "version": 3
   },
   "file_extension": ".py",
   "mimetype": "text/x-python",
   "name": "python",
   "nbconvert_exporter": "python",
   "pygments_lexer": "ipython3",
   "version": "3.6.4"
  }
 },
 "nbformat": 4,
 "nbformat_minor": 2
}
