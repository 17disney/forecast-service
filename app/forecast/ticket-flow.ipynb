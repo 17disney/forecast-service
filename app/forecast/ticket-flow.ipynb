{
 "cells": [
  {
   "cell_type": "code",
   "execution_count": 171,
   "metadata": {},
   "outputs": [],
   "source": [
    "from sklearn.model_selection import cross_val_predict\n",
    "from sklearn.preprocessing import PolynomialFeatures\n",
    "from sklearn import linear_model\n",
    "from pymongo import MongoClient\n",
    "from sklearn.pipeline import make_pipeline\n",
    "from sklearn.linear_model import Ridge\n",
    "import numpy as np\n",
    "\n",
    "import matplotlib.pyplot as plt\n",
    "import datetime\n",
    "import urllib.request\n",
    "import json\n",
    "\n",
    "resp = urllib.request.urlopen('http://localhost:7100/tickets/shanghai?st=2018-03-01&et=2018-04-09')\n",
    "ticketData = resp.read()\n",
    "ticketData = json.loads(ticketData)\n",
    "\n",
    "resp = urllib.request.urlopen('http://localhost:7100/day/rank?st=2018-03-01&et=2018-04-09')\n",
    "dayData = resp.read()\n",
    "dayData = json.loads(dayData)\n",
    "\n",
    "resp = urllib.request.urlopen('http://localhost:7100/weather/history?st=2018-03-01&et=2018-04-09')\n",
    "weaData = resp.read()\n",
    "weaData = json.loads(weaData)\n",
    "\n",
    "resp = urllib.request.urlopen('http://localhost:7001/wait-times/park/shanghai?st=2018-03-01&et=2018-04-09')\n",
    "parkData = resp.read()\n",
    "parkData = json.loads(parkData)"
   ]
  },
  {
   "cell_type": "code",
   "execution_count": 172,
   "metadata": {},
   "outputs": [
    {
     "name": "stdout",
     "output_type": "stream",
     "text": [
      "[6.43932741]\n"
     ]
    },
    {
     "data": {
      "image/png": "[encoded data removed]",
      "text/plain": [
       "<matplotlib.figure.Figure at 0x299ac2ce550>"
      ]
     },
     "metadata": {},
     "output_type": "display_data"
    }
   ],
   "source": [
    "markMaxList = []\n",
    "ticketList = []\n",
    "flowList = []\n",
    "\n",
    "for item in parkData:\n",
    "    markMaxList.append(item['markAvg'])\n",
    "    \n",
    "    flowList.append(item['flowMax'])\n",
    "\n",
    "for item in ticketData:\n",
    "    ticketList.append(item['ticketNum'])\n",
    "    \n",
    "    \n",
    "    \n",
    "ticketLists = np.array(ticketList)\n",
    "filterData = np.where(ticketLists < 5000)\n",
    "\n",
    "x = []\n",
    "y = []\n",
    "\n",
    "for index in filterData[0]:\n",
    "    x.append(ticketList[index])\n",
    "#     y.append(markMaxList[index])\n",
    "    y.append(flowList[index])\n",
    "\n",
    "x = np.array(x)\n",
    "y = np.array(y)\n",
    "\n",
    "xx = xx.reshape((len(x), -1))\n",
    "\n",
    "plt.scatter(x, y)\n",
    "\n",
    "regr = linear_model.LinearRegression()\n",
    "regr.fit(xx, y)\n",
    "\n",
    "plt.plot(xx, regr.predict(xx), color='red',linewidth=1)\n",
    "print(regr.coef_)\n",
    "\n"
   ]
  },
  {
   "cell_type": "code",
   "execution_count": null,
   "metadata": {},
   "outputs": [],
   "source": []
  },
  {
   "cell_type": "code",
   "execution_count": null,
   "metadata": {},
   "outputs": [],
   "source": []
  }
 ],
 "metadata": {
  "kernelspec": {
   "display_name": "Python 3",
   "language": "python",
   "name": "python3"
  },
  "language_info": {
   "codemirror_mode": {
    "name": "ipython",
    "version": 3
   },
   "file_extension": ".py",
   "mimetype": "text/x-python",
   "name": "python",
   "nbconvert_exporter": "python",
   "pygments_lexer": "ipython3",
   "version": "3.6.4"
  }
 },
 "nbformat": 4,
 "nbformat_minor": 2
}
